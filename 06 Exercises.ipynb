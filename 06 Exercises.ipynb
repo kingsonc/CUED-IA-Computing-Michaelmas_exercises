{
 "cells": [
  {
   "cell_type": "markdown",
   "metadata": {
    "deletable": false,
    "editable": false,
    "nbgrader": {
     "checksum": "8969a6543eebd1c7db89a71bb75e61ee",
     "grade": false,
     "grade_id": "cell-7b3313f25bceb7a2",
     "locked": true,
     "schema_version": 1,
     "solution": false
    }
   },
   "source": [
    "## Exercise 06.1 (selecting and passing data structures)\n",
    "\n",
    "The task in Exercise 04 for computing the area of a triangle involved a function with six arguments ($x$ and $y$ components of each vertex). With six arguments, the likelihood of a user passing arguments in the wrong order is high. \n",
    "\n",
    "Use an appropriate data structure, e.g. a `list`, `tuple`, `dict`, etc,  to develop a new version of the function with a simpler interface (the interface is the arguments that are passed to the function). Add appropriate checks inside your function to validate the input data."
   ]
  },
  {
   "cell_type": "code",
   "execution_count": 1,
   "metadata": {
    "deletable": false,
    "nbgrader": {
     "checksum": "93c53f411edb621595bc865f6c79cbaf",
     "grade": false,
     "grade_id": "cell-50c4566d7bcbffaf",
     "locked": false,
     "schema_version": 1,
     "solution": true
    }
   },
   "outputs": [
    {
     "name": "stdout",
     "output_type": "stream",
     "text": [
      "3.0\n"
     ]
    }
   ],
   "source": [
    "vert0 = (0.0, 0.0)\n",
    "vert1 = (0.0, 2.0)\n",
    "vert2 = (3.0, 0.0)\n",
    "\n",
    "def area(vert0, vert1, vert2):\n",
    "    if not len(vert0) == len(vert1) == len(vert2) == 2:\n",
    "        return 'One or more of the vertices do not have the right dimensions'\n",
    "        \n",
    "    return abs((vert0[0]*(vert1[1]-vert2[1]) + vert1[0]*(vert2[1]-vert0[1]) + vert2[0]*(vert0[1]-vert1[1]))/2)\n",
    "\n",
    "print(area(vert0, vert1, vert2))"
   ]
  },
  {
   "cell_type": "markdown",
   "metadata": {
    "deletable": false,
    "editable": false,
    "nbgrader": {
     "checksum": "538793e1776653182d193a7700588461",
     "grade": false,
     "grade_id": "cell-5065052af9989fdf",
     "locked": true,
     "schema_version": 1,
     "solution": false
    }
   },
   "source": [
    "## Exercise 06.2 (selecting data structures)\n",
    "\n",
    "For a simple (non-intersecting) polygon with $n$ vertices, $(x_0, y_0)$, $(x_1, y_1)$, . . , $(x_{n-1}, y_{n-1})$, the area $A$ is given by\n",
    "$$\n",
    "A = \\left| \\frac{1}{2} \\sum_{i=0}^{n-1} \\left(x_{i} y _{i+1} - x_{i+1} y_{i} \\right) \\right|\n",
    "$$\n",
    "and where $(x_n, y_n) = (x_0, y_0)$. The vertices should be ordered as you move around the polygon.\n",
    "\n",
    "Write a function that computes the area of a simple polygon with an arbitrary number of vertices. Test your function for some simple shapes. Pay careful attention to the range of any loops."
   ]
  },
  {
   "cell_type": "code",
   "execution_count": 2,
   "metadata": {
    "deletable": false,
    "nbgrader": {
     "checksum": "3c6fe94718310475d875ec60534199eb",
     "grade": false,
     "grade_id": "cell-4b5a619405787746",
     "locked": false,
     "schema_version": 1,
     "solution": true
    }
   },
   "outputs": [
    {
     "name": "stdout",
     "output_type": "stream",
     "text": [
      "3.0\n",
      "4.0\n",
      "35.0\n"
     ]
    }
   ],
   "source": [
    "# YOUR CODE HERE\n",
    "def area(vertices):\n",
    "    A = 0\n",
    "    for i in range(len(vertices)-1):\n",
    "        A += 0.5*abs(vertices[i][0]*vertices[i+1][1] - vertices[i+1][0]*vertices[i][1])\n",
    "    \n",
    "    return A\n",
    "\n",
    "vertices1 = [(0.0, 0.0), (0.0, 2.0), (3.0, 0.0)]\n",
    "print(area(vertices1)) # =3\n",
    "\n",
    "vertices2 = [(0.0, 0.0), (0.0, 2.0), (2.0, 2.0), (2.0, 0.0)]\n",
    "print(area(vertices2)) # =4\n",
    "\n",
    "vertices3 = [(0.0, 0.0), (10.0, 0.0), (5.0, 5.0), (1.0, 5.0)]\n",
    "print(area(vertices3)) # =35"
   ]
  },
  {
   "cell_type": "markdown",
   "metadata": {
    "deletable": false,
    "editable": false,
    "nbgrader": {
     "checksum": "31a71dcd54f996f2f798df30114b9faf",
     "grade": false,
     "grade_id": "cell-ced99a38c7bbe7a0",
     "locked": true,
     "schema_version": 1,
     "solution": false
    }
   },
   "source": [
    "## Exercise 06.3 (indexing)\n",
    "\n",
    "Write a function that uses list indexing to add two vectors of arbitrary length, and returns the new vector. Include a check that the vector sizes match, and print a warning message if there is a size mismatch. The more error information you provide, the easier it would be for someone using your function to debug their code.\n",
    "\n",
    "Add some tests of your code.\n",
    "\n",
    "#### Hint: You can create a list of zeros of length `n` by\n",
    "\n",
    "    z = [0]*n\n",
    "    \n",
    "#### Optional (advanced) \n",
    "\n",
    "Try writing a one-line version of this operation using list comprehension and the built-in function [`zip`](https://docs.python.org/3/library/functions.html#zip)."
   ]
  },
  {
   "cell_type": "code",
   "execution_count": 3,
   "metadata": {
    "deletable": false,
    "nbgrader": {
     "checksum": "66ea7d534bb1cbabf82dbcbb69e4dd02",
     "grade": false,
     "grade_id": "cell-47daca03f7a96b62",
     "locked": false,
     "schema_version": 1,
     "solution": true
    }
   },
   "outputs": [],
   "source": [
    "def sum_vector(x, y):\n",
    "    \"Return sum of two vectors\"\n",
    "    # YOUR CODE HERE\n",
    "    if len(x) != len(y):\n",
    "        if len(x) > len(y):\n",
    "            return 'Vector x is bigger than vector y'\n",
    "        else: \n",
    "            return 'Vector y is bigger than vector x'\n",
    "    \n",
    "    length = len(x)\n",
    "    sum_v = [0]*length\n",
    "    for i in range(length):\n",
    "        sum_v[i] = x[i] + y[i]\n",
    "    \n",
    "    return sum_v"
   ]
  },
  {
   "cell_type": "code",
   "execution_count": 4,
   "metadata": {
    "collapsed": true,
    "deletable": false,
    "editable": false,
    "nbgrader": {
     "checksum": "9b3d802cdb7440be47952667335f5cc7",
     "grade": true,
     "grade_id": "cell-95f5819810d2b2c7",
     "locked": true,
     "points": 0,
     "schema_version": 1,
     "solution": false
    }
   },
   "outputs": [],
   "source": [
    "a = [0, 4.3, -5, 7]\n",
    "b = [-2, 7, -15, 1]\n",
    "c = sum_vector(a, b)\n",
    "assert c == [-2, 11.3, -20, 8]"
   ]
  },
  {
   "cell_type": "markdown",
   "metadata": {},
   "source": [
    "### Extension: list comprehension"
   ]
  },
  {
   "cell_type": "code",
   "execution_count": 5,
   "metadata": {
    "deletable": false,
    "nbgrader": {
     "checksum": "3ace0d343b7871c30f7776e20669bf3e",
     "grade": true,
     "grade_id": "cell-c182b3f0d8952692",
     "locked": false,
     "points": 0,
     "schema_version": 1,
     "solution": true
    }
   },
   "outputs": [
    {
     "name": "stdout",
     "output_type": "stream",
     "text": [
      "[-2, 11.3, -20, 8]\n"
     ]
    }
   ],
   "source": [
    "# YOUR CODE HERE\n",
    "a = [0, 4.3, -5, 7]\n",
    "b = [-2, 7, -15, 1]\n",
    "\n",
    "sum_v = [x[0]+x[1] for x in zip(a,b)]\n",
    "\n",
    "print(sum_v)"
   ]
  },
  {
   "cell_type": "markdown",
   "metadata": {},
   "source": [
    "## Exercise 06.4 (dictionaries)\n",
    "\n",
    "Create a dictionary that maps college names (the key) to college abbreviations for at least 5 colleges\n",
    "(you can find abbreviations at https://en.wikipedia.org/wiki/Colleges_of_the_University_of_Cambridge#Colleges).\n",
    "From the dictionary, produce and print\n",
    "\n",
    "1. A dictionary from college abbreviation to name; and\n",
    "1. A list of college abbreviations sorted into alphabetical order.\n",
    "\n",
    "*Optional extension:* Create a dictionary that maps college names (the key) to dictionaries of:\n",
    "\n",
    "- College abbreviation\n",
    "- Year of foundation \n",
    "- Total number students\n",
    " \n",
    "for at least 5 colleges. Take the data from https://en.wikipedia.org/wiki/Colleges_of_the_University_of_Cambridge#Colleges. Using this dictionary, \n",
    "\n",
    "1. Find the college with the greatest number of students and print the abbreviation; and \n",
    "2. Find the oldest college, and print the number of students and the abbreviation for this college."
   ]
  },
  {
   "cell_type": "code",
   "execution_count": 6,
   "metadata": {
    "deletable": false,
    "nbgrader": {
     "checksum": "892cc4fd98d0f8cc393eff925b5d6b13",
     "grade": false,
     "grade_id": "cell-bc271dc3885e19c5",
     "locked": false,
     "schema_version": 1,
     "solution": true
    }
   },
   "outputs": [
    {
     "name": "stdout",
     "output_type": "stream",
     "text": [
      "{'G': 'Girton', 'HO': 'Homerton', 'F': 'Fitzwilliam', 'CAI': 'Gonville and Caius', 'EM': 'Emmanuel'}\n",
      "['CAI', 'EM', 'F', 'G', 'HO']\n"
     ]
    }
   ],
   "source": [
    "# YOUR CODE HERE\n",
    "college_to_abbr = {\"Emmanuel\": \"EM\", \"Fitzwilliam\": \"F\", \"Girton\": \"G\", \"Gonville and Caius\": \"CAI\", \"Homerton\": \"HO\"}\n",
    "\n",
    "abbr_to_college = {}\n",
    "for college, abbr in college_to_abbr.items():\n",
    "    abbr_to_college[abbr] = college\n",
    "\n",
    "print(abbr_to_college)\n",
    "\n",
    "abbreviations = []\n",
    "for abbr in abbr_to_college:\n",
    "    abbreviations.append(abbr)\n",
    "\n",
    "abbreviations.sort()\n",
    "print(abbreviations)"
   ]
  },
  {
   "cell_type": "markdown",
   "metadata": {
    "deletable": false,
    "editable": false,
    "nbgrader": {
     "checksum": "ee373920fe2377cf230967db220ba75a",
     "grade": false,
     "grade_id": "cell-45d2551a524193b0",
     "locked": true,
     "schema_version": 1,
     "solution": false
    }
   },
   "source": [
    "#### Optional extension"
   ]
  },
  {
   "cell_type": "code",
   "execution_count": 7,
   "metadata": {
    "deletable": false,
    "nbgrader": {
     "checksum": "683b2dc107d00c494b6c163c5ab6cfa8",
     "grade": false,
     "grade_id": "cell-7040c4053c72ce09",
     "locked": false,
     "schema_version": 1,
     "solution": true
    }
   },
   "outputs": [
    {
     "name": "stdout",
     "output_type": "stream",
     "text": [
      "The college with the greatest number of students is HO with 1181 students.\n",
      "The oldest college is CAI with 719 students, founded in 1348.\n"
     ]
    }
   ],
   "source": [
    "# YOUR CODE HERE\n",
    "colleges = {\n",
    "    \"Emmanuel\": {\n",
    "        \"abbr\": \"EM\",\n",
    "        \"year\": 1584,\n",
    "        \"no_of_students\": 750\n",
    "    }, \n",
    "    \"Fitzwilliam\": {\n",
    "        \"abbr\": \"F\",\n",
    "        \"year\": 1869,\n",
    "        \"no_of_students\": 688\n",
    "    }, \n",
    "    \"Girton\": {\n",
    "        \"abbr\": \"G\",\n",
    "        \"year\": 1869,\n",
    "        \"no_of_students\": 677\n",
    "    }, \n",
    "    \"Gonville and Caius\": {\n",
    "        \"abbr\": \"CAI\",\n",
    "        \"year\": 1348,\n",
    "        \"no_of_students\": 719\n",
    "    }, \n",
    "    \"Homerton\": {\n",
    "        \"abbr\": \"HO\",\n",
    "        \"year\": 1768,\n",
    "        \"no_of_students\": 1181\n",
    "    }\n",
    "}\n",
    "\n",
    "sort_by_size = sorted([(value[\"no_of_students\"], value[\"abbr\"]) for (key, value) in colleges.items()])\n",
    "print(\"The college with the greatest number of students is {} with {} students.\".format(sort_by_size[-1][1], sort_by_size[-1][0]))\n",
    "\n",
    "sort_by_year = sorted([(value[\"year\"], value[\"no_of_students\"], value[\"abbr\"]) for (key, value) in colleges.items()])\n",
    "print(\"The oldest college is {} with {} students, founded in {}.\".format(sort_by_year[0][2], sort_by_year[0][1], sort_by_year[0][0]))"
   ]
  }
 ],
 "metadata": {
  "kernelspec": {
   "display_name": "Python 3",
   "language": "python",
   "name": "python3"
  },
  "language_info": {
   "codemirror_mode": {
    "name": "ipython",
    "version": 3
   },
   "file_extension": ".py",
   "mimetype": "text/x-python",
   "name": "python",
   "nbconvert_exporter": "python",
   "pygments_lexer": "ipython3",
   "version": "3.5.1"
  }
 },
 "nbformat": 4,
 "nbformat_minor": 1
}
